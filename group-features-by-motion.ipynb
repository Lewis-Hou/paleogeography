{
 "cells": [
  {
   "cell_type": "code",
   "execution_count": 1,
   "metadata": {
    "collapsed": false,
    "deletable": true,
    "editable": true
   },
   "outputs": [
    {
     "ename": "ImportError",
     "evalue": "No module named paleogeography",
     "output_type": "error",
     "traceback": [
      "\u001b[0;31m---------------------------------------------------------------------------\u001b[0m",
      "\u001b[0;31mImportError\u001b[0m                               Traceback (most recent call last)",
      "\u001b[0;32m<ipython-input-1-d1e8dd3e4777>\u001b[0m in \u001b[0;36m<module>\u001b[0;34m()\u001b[0m\n\u001b[1;32m      3\u001b[0m \u001b[0;32mimport\u001b[0m \u001b[0mnumpy\u001b[0m \u001b[0;32mas\u001b[0m \u001b[0mnp\u001b[0m\u001b[0;34m\u001b[0m\u001b[0m\n\u001b[1;32m      4\u001b[0m \u001b[0;32mimport\u001b[0m \u001b[0mmatplotlib\u001b[0m\u001b[0;34m.\u001b[0m\u001b[0mpyplot\u001b[0m \u001b[0;32mas\u001b[0m \u001b[0mplt\u001b[0m\u001b[0;34m\u001b[0m\u001b[0m\n\u001b[0;32m----> 5\u001b[0;31m \u001b[0;32mimport\u001b[0m \u001b[0mpaleogeography\u001b[0m \u001b[0;32mas\u001b[0m \u001b[0mpg\u001b[0m\u001b[0;34m\u001b[0m\u001b[0m\n\u001b[0m\u001b[1;32m      6\u001b[0m \u001b[0;34m\u001b[0m\u001b[0m\n\u001b[1;32m      7\u001b[0m \u001b[0mget_ipython\u001b[0m\u001b[0;34m(\u001b[0m\u001b[0;34m)\u001b[0m\u001b[0;34m.\u001b[0m\u001b[0mmagic\u001b[0m\u001b[0;34m(\u001b[0m\u001b[0;34mu'matplotlib inline'\u001b[0m\u001b[0;34m)\u001b[0m\u001b[0;34m\u001b[0m\u001b[0m\n",
      "\u001b[0;31mImportError\u001b[0m: No module named paleogeography"
     ]
    }
   ],
   "source": [
    "import pygplates\n",
    "import glob, re\n",
    "import numpy as np\n",
    "import matplotlib.pyplot as plt\n",
    "import paleogeography as pg\n",
    "\n",
    "%matplotlib inline\n",
    "\n",
    "def determine(moving_plate_id,fixed_plate_id,time_from,time_to,rotation_model):\n",
    "    angle = rotation_model.get_rotation(time_to,moving_plate_id,time_from,fixed_plate_id)\n",
    "    return angle.represents_identity_rotation()\n",
    "\n",
    "\n",
    "def split_plate_id_list(plate_id_list,time_from,time_to,rotation_model):\n",
    "    \n",
    "    fixed_plate_id = plate_id_list[0]\n",
    "    \n",
    "    plate_id_list_copy_True = list(plate_id_list)\n",
    "    plate_id_list_copy_False = list(plate_id_list)\n",
    "    \n",
    "    plate_id_list_copy_True[:] = [tup for tup in plate_id_list_copy_True if determine(tup,fixed_plate_id,time_from,time_to,rotation_model)]\n",
    "    plate_id_list_copy_False[:] = [tup for tup in plate_id_list_copy_False if not determine(tup,fixed_plate_id,time_from,time_to,rotation_model)]\n",
    "\n",
    "    return plate_id_list_copy_True,plate_id_list_copy_False\n",
    "\n",
    "\n",
    "def get_plate_motion_groups(plate_id_list,rotation_model,time,delta_time=1.):\n",
    "    \n",
    "    time_to = time\n",
    "    time_from = time+delta_time\n",
    "    \n",
    "    plate_group_lists = []\n",
    "    list_moving = list(plate_id_list)\n",
    "    \n",
    "    while len(list_moving)>0:\n",
    "        list_fixed,list_moving = split_plate_id_list(list_moving,time_from,time_to,rotation_model)\n",
    "        plate_group_lists.append(list_fixed)\n",
    "        \n",
    "    return plate_group_lists\n",
    "\n",
    "\n",
    "def group_features_by_motion(features,rotation_model,time,delta_time=1,plot=False):\n",
    "\n",
    "    rps = []\n",
    "    pygplates.reconstruct(pg_features,rotation_model,rps,time)\n",
    "\n",
    "    pids = []\n",
    "    for rp in rps:\n",
    "        pids.append(rp.get_feature().get_reconstruction_plate_id())\n",
    "\n",
    "    pg_pids = list(set(pids))\n",
    "    \n",
    "    plate_group_lists = get_plate_motion_groups(pg_pids,rotation_model,time,delta_time)\n",
    "\n",
    "    #print 'Number of groups is %d' % len(plate_group_lists)\n",
    "    #for plate_group in plate_group_lists:\n",
    "    #    print plate_group\n",
    "\n",
    "    if plot:\n",
    "        cmap = plt.get_cmap('hsv')\n",
    "        colors = cmap(np.linspace(0, 1, len(plate_group_lists)))\n",
    "\n",
    "        plt.figure(figsize=(20,9))\n",
    "        for rp in rps:\n",
    "            for (plate_group,color) in zip(plate_group_lists,colors):\n",
    "                if rp.get_feature().get_reconstruction_plate_id() in plate_group:\n",
    "                    plt.plot(rp.get_reconstructed_geometry().to_lat_lon_array()[:,1],\n",
    "                             rp.get_reconstructed_geometry().to_lat_lon_array()[:,0],color=color)\n",
    "        plt.show()   \n",
    "                    \n",
    "    return plate_group_lists\n",
    "\n",
    "\n",
    "\n",
    "\n",
    "#plate_group_lists = get_plate_motion_groups(plate_id_list,rotation_model,time)\n",
    "#\n",
    "#print 'Number of groups is %d' % len(plate_group_lists)\n",
    "#for plate_group in plate_group_lists:\n",
    "#    print plate_group\n",
    "\n"
   ]
  },
  {
   "cell_type": "code",
   "execution_count": null,
   "metadata": {
    "collapsed": false,
    "deletable": true,
    "editable": true,
    "scrolled": false
   },
   "outputs": [],
   "source": [
    "rotation_model = pygplates.RotationModel('/Applications/GPlates-2.0.0/SampleData/FeatureCollections/Rotations/Matthews_etal_GPC_2016_410-0Ma_GK07.rot')\n",
    "\n",
    "env_list = ['lm','m','sm','i']\n",
    "\n",
    "basedir = '/Users/Simon/Data/GPlates/PublishedModels/WCao_Paleogeography/Supplements/PresentDay_Paleogeog_Matthews2016_410-2Ma'\n",
    "\n",
    "tmp = glob.glob('%s/*/' % basedir)\n",
    "\n",
    "time_list = []\n",
    "for tm in tmp:\n",
    "    time_list.append(float(re.findall(r'\\d+Ma+',tm)[1][:-2]))\n",
    "#time_list = [396.,368.,348.,328.,302.,287.,277.,255.,232.,218.,195.]\n",
    "\n",
    "time_list.sort()\n",
    "\n",
    "for time in time_list:\n",
    "    pg_dir = '%s/PresentDay_Paleogeog_Matthews2016_%dMa/' % (basedir,time)\n",
    "    pg_features = pg.load_paleogeagraphy(pg_dir,env_list)\n",
    "    pids = group_features_by_motion(pg_features,rotation_model,time,plot=True)\n",
    "    print 'Number of groups for time %0.2f is %d' % (time,len(pids))\n",
    "\n",
    "\n"
   ]
  },
  {
   "cell_type": "code",
   "execution_count": null,
   "metadata": {
    "collapsed": false,
    "deletable": true,
    "editable": true
   },
   "outputs": [],
   "source": [
    "for time_to,time_from in zip(time_list[:-1],time_list[1:]):\n",
    "    pg_dir = '%s/PresentDay_Paleogeog_Matthews2016_%dMa/' % (basedir,time)\n",
    "    pg_features = pg.load_paleogeagraphy(pg_dir,env_list)\n",
    "    pids = group_features_by_motion(pg_features,rotation_model,time_to,time_from,plot=False)\n",
    "    #print 'Number of groups for time %0.2f is %d' % (time,len(pids))\n",
    "    \n",
    "    rps = []\n",
    "    pygplates.reconstruct(pg_features,rotation_model,rps,time_to)\n",
    "\n",
    "    \n",
    "    for rp in rps:\n",
    "        group_features = []\n",
    "        for plate_group in plate_group_lists:\n",
    "            if rp.get_feature().get_reconstruction_plate_id() in plate_group:\n",
    "                group_features.append(rp)\n",
    "                    \n",
    "    \n",
    "    "
   ]
  },
  {
   "cell_type": "code",
   "execution_count": null,
   "metadata": {
    "collapsed": true,
    "deletable": true,
    "editable": true
   },
   "outputs": [],
   "source": []
  }
 ],
 "metadata": {
  "anaconda-cloud": {},
  "kernelspec": {
   "display_name": "Python [default]",
   "language": "python",
   "name": "python2"
  },
  "language_info": {
   "codemirror_mode": {
    "name": "ipython",
    "version": 2
   },
   "file_extension": ".py",
   "mimetype": "text/x-python",
   "name": "python",
   "nbconvert_exporter": "python",
   "pygments_lexer": "ipython2",
   "version": "2.7.13"
  }
 },
 "nbformat": 4,
 "nbformat_minor": 0
}
