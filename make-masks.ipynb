{
 "cells": [
  {
   "cell_type": "code",
   "execution_count": 1,
   "metadata": {
    "collapsed": false,
    "deletable": true,
    "editable": true,
    "scrolled": false
   },
   "outputs": [
    {
     "name": "stdout",
     "output_type": "stream",
     "text": [
      "Working on time 0.00\n",
      "Working on time 1.00\n",
      "Working on time 2.00\n",
      "Working on time 3.00\n",
      "Working on time 4.00\n",
      "Working on time 5.00\n",
      "Working on time 6.00\n",
      "Working on time 7.00\n",
      "Working on time 8.00\n",
      "Working on time 9.00\n"
     ]
    },
    {
     "ename": "KeyboardInterrupt",
     "evalue": "",
     "output_type": "error",
     "traceback": [
      "\u001b[0;31m---------------------------------------------------------------------------\u001b[0m",
      "\u001b[0;31mKeyboardInterrupt\u001b[0m                         Traceback (most recent call last)",
      "\u001b[0;32m<ipython-input-1-e39f64558848>\u001b[0m in \u001b[0;36m<module>\u001b[0;34m()\u001b[0m\n\u001b[1;32m     33\u001b[0m     \u001b[0;32mprint\u001b[0m \u001b[0;34m'Working on time %0.2f'\u001b[0m \u001b[0;34m%\u001b[0m \u001b[0mtime\u001b[0m\u001b[0;34m\u001b[0m\u001b[0m\n\u001b[1;32m     34\u001b[0m \u001b[0;34m\u001b[0m\u001b[0m\n\u001b[0;32m---> 35\u001b[0;31m     \u001b[0mcf\u001b[0m \u001b[0;34m=\u001b[0m \u001b[0mpp\u001b[0m\u001b[0;34m.\u001b[0m\u001b[0mmerge_polygons\u001b[0m\u001b[0;34m(\u001b[0m\u001b[0mcobter\u001b[0m\u001b[0;34m,\u001b[0m\u001b[0mrotation_model\u001b[0m\u001b[0;34m,\u001b[0m\u001b[0mtime\u001b[0m\u001b[0;34m=\u001b[0m\u001b[0mtime\u001b[0m\u001b[0;34m,\u001b[0m\u001b[0msampling\u001b[0m\u001b[0;34m=\u001b[0m\u001b[0msampling\u001b[0m\u001b[0;34m)\u001b[0m\u001b[0;34m\u001b[0m\u001b[0m\n\u001b[0m\u001b[1;32m     36\u001b[0m \u001b[0;34m\u001b[0m\u001b[0m\n\u001b[1;32m     37\u001b[0m     \u001b[0msieve_polygons\u001b[0m \u001b[0;34m=\u001b[0m \u001b[0mpp\u001b[0m\u001b[0;34m.\u001b[0m\u001b[0mpolygon_area_threshold\u001b[0m\u001b[0;34m(\u001b[0m\u001b[0mcf\u001b[0m\u001b[0;34m,\u001b[0m\u001b[0marea_threshold\u001b[0m\u001b[0;34m)\u001b[0m\u001b[0;34m\u001b[0m\u001b[0m\n",
      "\u001b[0;32m/Users/Simon/GIT/paleogeography/polygon_processing.pyc\u001b[0m in \u001b[0;36mmerge_polygons\u001b[0;34m(polygons, rotation_model, time, sampling, area_threshold, filename)\u001b[0m\n\u001b[1;32m     27\u001b[0m     \u001b[0mpad2\u001b[0m \u001b[0;34m=\u001b[0m \u001b[0mnp\u001b[0m\u001b[0;34m.\u001b[0m\u001b[0mhstack\u001b[0m\u001b[0;34m(\u001b[0m\u001b[0;34m(\u001b[0m\u001b[0mpad_ver\u001b[0m\u001b[0;34m,\u001b[0m\u001b[0mpad1\u001b[0m\u001b[0;34m,\u001b[0m\u001b[0mpad_ver\u001b[0m\u001b[0;34m)\u001b[0m\u001b[0;34m)\u001b[0m    \u001b[0;31m# add row of zeros to left and right\u001b[0m\u001b[0;34m\u001b[0m\u001b[0m\n\u001b[1;32m     28\u001b[0m     \u001b[0;31m#pad3 = np.hstack((pad2,pad_ver))\u001b[0m\u001b[0;34m\u001b[0m\u001b[0;34m\u001b[0m\u001b[0m\n\u001b[0;32m---> 29\u001b[0;31m     \u001b[0mcontours\u001b[0m \u001b[0;34m=\u001b[0m \u001b[0mmeasure\u001b[0m\u001b[0;34m.\u001b[0m\u001b[0mfind_contours\u001b[0m\u001b[0;34m(\u001b[0m\u001b[0mpad2\u001b[0m\u001b[0;34m,\u001b[0m \u001b[0;36m0.5\u001b[0m\u001b[0;34m,\u001b[0m \u001b[0mfully_connected\u001b[0m\u001b[0;34m=\u001b[0m\u001b[0;34m'low'\u001b[0m\u001b[0;34m)\u001b[0m\u001b[0;34m\u001b[0m\u001b[0m\n\u001b[0m\u001b[1;32m     30\u001b[0m     \u001b[0;31m## --- end\u001b[0m\u001b[0;34m\u001b[0m\u001b[0;34m\u001b[0m\u001b[0m\n\u001b[1;32m     31\u001b[0m \u001b[0;34m\u001b[0m\u001b[0m\n",
      "\u001b[0;32m/Users/Simon/anaconda/lib/python2.7/site-packages/skimage/measure/_find_contours.pyc\u001b[0m in \u001b[0;36mfind_contours\u001b[0;34m(array, level, fully_connected, positive_orientation)\u001b[0m\n\u001b[1;32m    118\u001b[0m     point_list = _find_contours_cy.iterate_and_store(array, level,\n\u001b[1;32m    119\u001b[0m                                                      fully_connected == 'high')\n\u001b[0;32m--> 120\u001b[0;31m     \u001b[0mcontours\u001b[0m \u001b[0;34m=\u001b[0m \u001b[0m_assemble_contours\u001b[0m\u001b[0;34m(\u001b[0m\u001b[0m_take_2\u001b[0m\u001b[0;34m(\u001b[0m\u001b[0mpoint_list\u001b[0m\u001b[0;34m)\u001b[0m\u001b[0;34m)\u001b[0m\u001b[0;34m\u001b[0m\u001b[0m\n\u001b[0m\u001b[1;32m    121\u001b[0m     \u001b[0;32mif\u001b[0m \u001b[0mpositive_orientation\u001b[0m \u001b[0;34m==\u001b[0m \u001b[0;34m'high'\u001b[0m\u001b[0;34m:\u001b[0m\u001b[0;34m\u001b[0m\u001b[0m\n\u001b[1;32m    122\u001b[0m         \u001b[0mcontours\u001b[0m \u001b[0;34m=\u001b[0m \u001b[0;34m[\u001b[0m\u001b[0mc\u001b[0m\u001b[0;34m[\u001b[0m\u001b[0;34m:\u001b[0m\u001b[0;34m:\u001b[0m\u001b[0;34m-\u001b[0m\u001b[0;36m1\u001b[0m\u001b[0;34m]\u001b[0m \u001b[0;32mfor\u001b[0m \u001b[0mc\u001b[0m \u001b[0;32min\u001b[0m \u001b[0mcontours\u001b[0m\u001b[0;34m]\u001b[0m\u001b[0;34m\u001b[0m\u001b[0m\n",
      "\u001b[0;32m/Users/Simon/anaconda/lib/python2.7/site-packages/skimage/measure/_find_contours.pyc\u001b[0m in \u001b[0;36m_assemble_contours\u001b[0;34m(points_iterator)\u001b[0m\n\u001b[1;32m    175\u001b[0m                 \u001b[0;32melse\u001b[0m\u001b[0;34m:\u001b[0m  \u001b[0;31m# tail_num <= head_num\u001b[0m\u001b[0;34m\u001b[0m\u001b[0m\n\u001b[1;32m    176\u001b[0m                     \u001b[0;31m# head was created second. Prepend head to tail.\u001b[0m\u001b[0;34m\u001b[0m\u001b[0;34m\u001b[0m\u001b[0m\n\u001b[0;32m--> 177\u001b[0;31m                     \u001b[0mtail\u001b[0m\u001b[0;34m.\u001b[0m\u001b[0mextendleft\u001b[0m\u001b[0;34m(\u001b[0m\u001b[0mreversed\u001b[0m\u001b[0;34m(\u001b[0m\u001b[0mhead\u001b[0m\u001b[0;34m)\u001b[0m\u001b[0;34m)\u001b[0m\u001b[0;34m\u001b[0m\u001b[0m\n\u001b[0m\u001b[1;32m    178\u001b[0m                     \u001b[0;31m# remove all traces of head:\u001b[0m\u001b[0;34m\u001b[0m\u001b[0;34m\u001b[0m\u001b[0m\n\u001b[1;32m    179\u001b[0m                     \u001b[0;32mdel\u001b[0m \u001b[0mstarts\u001b[0m\u001b[0;34m[\u001b[0m\u001b[0mhead\u001b[0m\u001b[0;34m[\u001b[0m\u001b[0;36m0\u001b[0m\u001b[0;34m]\u001b[0m\u001b[0;34m]\u001b[0m\u001b[0;34m\u001b[0m\u001b[0m\n",
      "\u001b[0;31mKeyboardInterrupt\u001b[0m: "
     ]
    }
   ],
   "source": [
    "import pygplates\n",
    "import numpy as np\n",
    "import matplotlib.pyplot as plt\n",
    "from mpl_toolkits.basemap import Basemap\n",
    "import polygon_processing as pp\n",
    "\n",
    "%matplotlib inline\n",
    "\n",
    "\n",
    "#time = 155.  # this time must match one of the specific times for which there are valid polygons\n",
    "\n",
    "sampling = 1.0   # set the resolution of the rasterising - smaller number --> slower\n",
    "\n",
    "area_threshold = 0.0001\n",
    "\n",
    "\n",
    "rotation_file = '/Applications/GPlates-2.0.0/SampleData/FeatureCollections/Rotations/Matthews_etal_GPC_2016_410-0Ma_GK07.rot'\n",
    "rotation_model = pygplates.RotationModel(rotation_file)\n",
    "\n",
    "\n",
    "COBterrane_file = '/Users/Simon/Data/EByteSVN/EByteDeformingModels/Matthews++_410-0Ma/StaticGeometries/AgeGridInput/Global_EarthByte_GeeK07_COB_Terranes_Matthews_etal.gpml'\n",
    "polygon_features = pygplates.FeatureCollection(COBterrane_file)\n",
    "\n",
    "\n",
    "cobter = pp.force_polygon_geometries(polygon_features)\n",
    "\n",
    "\n",
    "sieve_polygons_list = []\n",
    "time_list = np.arange(0,411,10)\n",
    "\n",
    "for time in time_list:\n",
    "    \n",
    "    print 'Working on time %0.2f' % time\n",
    "\n",
    "    cf = pp.merge_polygons(cobter,rotation_model,time=time,sampling=sampling)\n",
    "\n",
    "    sieve_polygons = pp.polygon_area_threshold(cf,area_threshold)\n",
    "    for polygon in sieve_polygons:\n",
    "        polygon.set_valid_time(time+0.5,time-0.4999)\n",
    "        sieve_polygons_list.append(polygon)\n",
    "\n",
    "    #plt.figure(figsize=(20,9))\n",
    "    #for n, contour in enumerate(sieve_polygons):\n",
    "    #    plt.plot(contour.get_geometry().to_lat_lon_array()[:, 1], \n",
    "    #             contour.get_geometry().to_lat_lon_array()[:, 0], linewidth=2)\n",
    "\n",
    "pygplates.FeatureCollection(sieve_polygons_list).write('COB_outlines.gpmlz')\n"
   ]
  },
  {
   "cell_type": "code",
   "execution_count": null,
   "metadata": {
    "collapsed": true,
    "deletable": true,
    "editable": true
   },
   "outputs": [],
   "source": []
  }
 ],
 "metadata": {
  "anaconda-cloud": {},
  "kernelspec": {
   "display_name": "Python [default]",
   "language": "python",
   "name": "python2"
  },
  "language_info": {
   "codemirror_mode": {
    "name": "ipython",
    "version": 2
   },
   "file_extension": ".py",
   "mimetype": "text/x-python",
   "name": "python",
   "nbconvert_exporter": "python",
   "pygments_lexer": "ipython2",
   "version": "2.7.13"
  }
 },
 "nbformat": 4,
 "nbformat_minor": 0
}
